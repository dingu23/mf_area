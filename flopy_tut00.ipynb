{
 "cells": [
  {
   "cell_type": "code",
   "execution_count": 5,
   "metadata": {},
   "outputs": [],
   "source": [
    "import os\n",
    "import numpy as np\n",
    "import matplotlib.pyplot as plt\n",
    "import flopy"
   ]
  },
  {
   "cell_type": "code",
   "execution_count": 6,
   "metadata": {},
   "outputs": [],
   "source": [
    "ws = 'data/tut00'\n",
    "name = 'ex02b'\n",
    "exe_name = os.path.abspath('mf6')"
   ]
  },
  {
   "cell_type": "code",
   "execution_count": 7,
   "metadata": {},
   "outputs": [],
   "source": [
    "# create simulation\n",
    "sim = flopy.mf6.MFSimulation(sim_name=name, exe_name=exe_name, sim_ws=ws)\n",
    "\n",
    "# create tdis package\n",
    "tdis = flopy.mf6.ModflowTdis(sim, time_units=\"days\", start_date_time=\"12.10.2020\")\n",
    "\n",
    "# create iterative model solution\n",
    "ims = flopy.mf6.ModflowIms(sim)"
   ]
  },
  {
   "cell_type": "code",
   "execution_count": 8,
   "metadata": {},
   "outputs": [],
   "source": [
    "gwf = flopy.mf6.ModflowGwf(sim, modelname=name)"
   ]
  },
  {
   "cell_type": "code",
   "execution_count": 9,
   "metadata": {},
   "outputs": [],
   "source": [
    "nlay, nrow, ncol = 3, 21, 20\n",
    "delr = delc = 500.\n",
    "top = 400.\n",
    "botm = [220, 200, 0]"
   ]
  },
  {
   "cell_type": "code",
   "execution_count": 10,
   "metadata": {},
   "outputs": [],
   "source": [
    "dis = flopy.mf6.ModflowGwfdis(gwf, nlay=nlay, nrow=nrow, ncol=ncol,\n",
    "                              delr=delr, delc=delc,\n",
    "                              top=top, botm=botm)\n",
    "\n"
   ]
  },
  {
   "cell_type": "code",
   "execution_count": 11,
   "metadata": {},
   "outputs": [
    {
     "data": {
      "text/plain": [
       "<matplotlib.collections.LineCollection at 0x1e484c61790>"
      ]
     },
     "execution_count": 11,
     "metadata": {},
     "output_type": "execute_result"
    },
    {
     "data": {
      "image/png": "[encoded data removed]",
      "text/plain": [
       "<Figure size 432x288 with 1 Axes>"
      ]
     },
     "metadata": {
      "needs_background": "light"
     },
     "output_type": "display_data"
    }
   ],
   "source": [
    "mm = flopy.plot.PlotMapView(model=gwf)\n",
    "mm.plot_grid()"
   ]
  },
  {
   "cell_type": "code",
   "execution_count": 12,
   "metadata": {},
   "outputs": [
    {
     "data": {
      "text/plain": [
       "<matplotlib.collections.LineCollection at 0x1e48637ea60>"
      ]
     },
     "execution_count": 12,
     "metadata": {},
     "output_type": "execute_result"
    },
    {
     "data": {
      "image/png": "[encoded data removed]",
      "text/plain": [
       "<Figure size 432x288 with 1 Axes>"
      ]
     },
     "metadata": {
      "needs_background": "light"
     },
     "output_type": "display_data"
    }
   ],
   "source": [
    "xs = flopy.plot.PlotCrossSection(model=gwf, line={'row': 10})\n",
    "xs.plot_grid()"
   ]
  },
  {
   "cell_type": "code",
   "execution_count": 13,
   "metadata": {},
   "outputs": [],
   "source": [
    "ic = flopy.mf6.ModflowGwfic(gwf, strt=320.)"
   ]
  },
  {
   "cell_type": "code",
   "execution_count": 14,
   "metadata": {},
   "outputs": [],
   "source": [
    "kh = [50, 0.01, 200]\n",
    "kv = [10, 0.01, 20]\n",
    "icelltype = [1, 0, 0]"
   ]
  },
  {
   "cell_type": "code",
   "execution_count": 15,
   "metadata": {},
   "outputs": [],
   "source": [
    "npf = flopy.mf6.ModflowGwfnpf(gwf, \n",
    "                              save_specific_discharge=True,\n",
    "                              icelltype=icelltype,\n",
    "                              k=kh,\n",
    "                              k33=kv)"
   ]
  },
  {
   "cell_type": "code",
   "execution_count": 16,
   "metadata": {},
   "outputs": [],
   "source": [
    "rch = flopy.mf6.ModflowGwfrcha(gwf, recharge=0.005)"
   ]
  },
  {
   "cell_type": "code",
   "execution_count": 17,
   "metadata": {},
   "outputs": [],
   "source": [
    "wel_spd = {0: [[(2, 10, 9), -150000]]}\n",
    "wel = flopy.mf6.ModflowGwfwel(gwf, print_input=True,\n",
    "                              stress_period_data=wel_spd)"
   ]
  },
  {
   "cell_type": "code",
   "execution_count": 18,
   "metadata": {},
   "outputs": [
    {
     "data": {
      "text/plain": [
       "{0: [[(0, 0, 19), 320, 100000.0, 318],\n",
       "  [(0, 1, 19), 320, 100000.0, 318],\n",
       "  [(0, 2, 19), 320, 100000.0, 318],\n",
       "  [(0, 3, 19), 320, 100000.0, 318],\n",
       "  [(0, 4, 19), 320, 100000.0, 318],\n",
       "  [(0, 5, 19), 320, 100000.0, 318],\n",
       "  [(0, 6, 19), 320, 100000.0, 318],\n",
       "  [(0, 7, 19), 320, 100000.0, 318],\n",
       "  [(0, 8, 19), 320, 100000.0, 318],\n",
       "  [(0, 9, 19), 320, 100000.0, 318],\n",
       "  [(0, 10, 19), 320, 100000.0, 318],\n",
       "  [(0, 11, 19), 320, 100000.0, 318],\n",
       "  [(0, 12, 19), 320, 100000.0, 318],\n",
       "  [(0, 13, 19), 320, 100000.0, 318],\n",
       "  [(0, 14, 19), 320, 100000.0, 318],\n",
       "  [(0, 15, 19), 320, 100000.0, 318],\n",
       "  [(0, 16, 19), 320, 100000.0, 318],\n",
       "  [(0, 17, 19), 320, 100000.0, 318],\n",
       "  [(0, 18, 19), 320, 100000.0, 318],\n",
       "  [(0, 19, 19), 320, 100000.0, 318],\n",
       "  [(0, 20, 19), 320, 100000.0, 318]]}"
      ]
     },
     "execution_count": 18,
     "metadata": {},
     "output_type": "execute_result"
    }
   ],
   "source": [
    "riv_spd = {0: [[(0, i, 19), 320, 1e5, 318] for i in range(nrow)]}\n",
    "riv_spd"
   ]
  },
  {
   "cell_type": "code",
   "execution_count": 19,
   "metadata": {},
   "outputs": [],
   "source": [
    "riv = flopy.mf6.ModflowGwfriv(gwf, stress_period_data=riv_spd)"
   ]
  },
  {
   "cell_type": "code",
   "execution_count": 20,
   "metadata": {},
   "outputs": [],
   "source": [
    "hname = '{}.hds'.format(name)\n",
    "cname = '{}.cbc'.format(name)\n",
    "oc = flopy.mf6.ModflowGwfoc(gwf, budget_filerecord=cname,\n",
    "                            head_filerecord=hname,\n",
    "                            saverecord=[('HEAD', 'ALL'), ('BUDGET', 'ALL')])\n",
    "\n"
   ]
  },
  {
   "cell_type": "code",
   "execution_count": 21,
   "metadata": {},
   "outputs": [],
   "source": [
    "gwf.name_file.save_flows = True"
   ]
  },
  {
   "cell_type": "code",
   "execution_count": 22,
   "metadata": {},
   "outputs": [
    {
     "name": "stdout",
     "output_type": "stream",
     "text": [
      "writing simulation...\n",
      "  writing simulation name file...\n",
      "  writing simulation tdis package...\n",
      "  writing ims package ims_-1...\n",
      "  writing model ex02b...\n",
      "    writing model name file...\n",
      "    writing package dis...\n",
      "    writing package ic...\n",
      "    writing package npf...\n",
      "    writing package rcha...\n",
      "    writing package wel_0...\n",
      "INFORMATION: maxbound in ('gwf6', 'wel', 'dimensions') changed to 1 based on size of stress_period_data\n",
      "    writing package riv_0...\n",
      "INFORMATION: maxbound in ('gwf6', 'riv', 'dimensions') changed to 21 based on size of stress_period_data\n",
      "    writing package oc...\n",
      "FloPy is using the following  executable to run the model: C:\\Users\\dan_b\\modflow\\mf6.2.1\\bin\\mf6.exe\n",
      "                                   MODFLOW 6\n",
      "                U.S. GEOLOGICAL SURVEY MODULAR HYDROLOGIC MODEL\n",
      "                            VERSION 6.2.1 02/18/2021\n",
      "\n",
      "   MODFLOW 6 compiled Feb 18 2021 08:24:05 with IFORT compiler (ver. 19.10.2)\n",
      "\n",
      "This software has been approved for release by the U.S. Geological \n",
      "Survey (USGS). Although the software has been subjected to rigorous \n",
      "review, the USGS reserves the right to update the software as needed \n",
      "pursuant to further analysis and review. No warranty, expressed or \n",
      "implied, is made by the USGS or the U.S. Government as to the \n",
      "functionality of the software and related material nor shall the \n",
      "fact of release constitute any such warranty. Furthermore, the \n",
      "software is released on condition that neither the USGS nor the U.S. \n",
      "Government shall be held liable for any damages resulting from its \n",
      "authorized or unauthorized use. Also refer to the USGS Water \n",
      "Resources Software User Rights Notice for complete use, copyright, \n",
      "and distribution information.\n",
      "\n",
      " \n",
      " Run start date and time (yyyy/mm/dd hh:mm:ss): 2021/07/13 19:00:15\n",
      " \n",
      " Writing simulation list file: mfsim.lst\n",
      " Using Simulation name file: mfsim.nam\n",
      " \n",
      "    Solving:  Stress period:     1    Time step:     1\n",
      " \n",
      " Run end date and time (yyyy/mm/dd hh:mm:ss): 2021/07/13 19:00:15\n",
      " Elapsed run time:  0.232 Seconds\n",
      " \n",
      " Normal termination of simulation.\n"
     ]
    },
    {
     "data": {
      "text/plain": [
       "(True, [])"
      ]
     },
     "execution_count": 22,
     "metadata": {},
     "output_type": "execute_result"
    }
   ],
   "source": [
    "sim.write_simulation()\n",
    "sim.run_simulation()"
   ]
  },
  {
   "cell_type": "code",
   "execution_count": 23,
   "metadata": {},
   "outputs": [],
   "source": [
    "fpth = os.path.join(ws, hname)\n",
    "hobj = flopy.utils.HeadFile(fpth)"
   ]
  },
  {
   "cell_type": "code",
   "execution_count": 24,
   "metadata": {},
   "outputs": [],
   "source": [
    "hds = hobj.get_data()"
   ]
  },
  {
   "cell_type": "code",
   "execution_count": 25,
   "metadata": {},
   "outputs": [],
   "source": [
    "fpth = os.path.join(ws, cname)\n",
    "cobj = flopy.utils.CellBudgetFile(fpth, precision=hobj.precision)"
   ]
  },
  {
   "cell_type": "code",
   "execution_count": 26,
   "metadata": {},
   "outputs": [
    {
     "name": "stdout",
     "output_type": "stream",
     "text": [
      "RECORD           IMETH\n",
      "----------------------\n",
      "FLOW-JA-FACE         1\n",
      "DATA-SPDIS           6\n",
      "WEL                  6\n",
      "RIV                  6\n",
      "RCH                  6\n"
     ]
    }
   ],
   "source": [
    "cobj.list_unique_records()"
   ]
  },
  {
   "cell_type": "code",
   "execution_count": 27,
   "metadata": {},
   "outputs": [],
   "source": [
    "spd = cobj.get_data(text='DATA-SPDIS')[0]"
   ]
  },
  {
   "cell_type": "code",
   "execution_count": 28,
   "metadata": {},
   "outputs": [
    {
     "data": {
      "text/plain": [
       "<matplotlib.collections.QuadMesh at 0x1e4864af9a0>"
      ]
     },
     "execution_count": 28,
     "metadata": {},
     "output_type": "execute_result"
    },
    {
     "data": {
      "image/png": "[encoded data removed]",
      "text/plain": [
       "<Figure size 432x288 with 1 Axes>"
      ]
     },
     "metadata": {
      "needs_background": "light"
     },
     "output_type": "display_data"
    }
   ],
   "source": [
    "mm = flopy.plot.PlotMapView(model=gwf, layer=0)\n",
    "mm.plot_array(hds)\n",
    "mm.plot_specific_discharge(spd)\n",
    "mm.plot_bc('RIV')\n",
    "mm.plot_bc('WEL')"
   ]
  },
  {
   "cell_type": "code",
   "execution_count": null,
   "metadata": {},
   "outputs": [],
   "source": []
  }
 ],
 "metadata": {
  "kernelspec": {
   "display_name": "Python 3 (ipykernel)",
   "language": "python",
   "name": "python3"
  },
  "language_info": {
   "codemirror_mode": {
    "name": "ipython",
    "version": 3
   },
   "file_extension": ".py",
   "mimetype": "text/x-python",
   "name": "python",
   "nbconvert_exporter": "python",
   "pygments_lexer": "ipython3",
   "version": "3.8.5"
  }
 },
 "nbformat": 4,
 "nbformat_minor": 4
}
