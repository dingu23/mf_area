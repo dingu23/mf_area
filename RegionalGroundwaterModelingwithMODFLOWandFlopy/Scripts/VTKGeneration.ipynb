{
 "cells": [
  {
   "cell_type": "markdown",
   "metadata": {},
   "source": [
    "# Import packages, read files and create empty dicts"
   ]
  },
  {
   "cell_type": "code",
   "execution_count": 1,
   "metadata": {},
   "outputs": [],
   "source": [
    "import os, re, sys, flopy\n",
    "import numpy as np\n",
    "np.set_printoptions(precision=4, suppress=True)\n",
    "\n",
    "sys.path.insert(0, './VTKGeneration')\n",
    "\n",
    "from vtkProcess import vtkProcess\n",
    "from vtkFunctions import vtkFunctions  "
   ]
  },
  {
   "cell_type": "code",
   "execution_count": 2,
   "metadata": {},
   "outputs": [],
   "source": [
    "modPath = '../Model/'\n",
    "modName = 'Model1'\n",
    "exeName = '../Exe/MODFLOW-NWT_64.exe'  \n",
    "modelObject = flopy.modflow.Modflow.load(modName+'.nam', model_ws=modPath, \n",
    "                                exe_name=exeName)"
   ]
  },
  {
   "cell_type": "code",
   "execution_count": 3,
   "metadata": {},
   "outputs": [
    {
     "data": {
      "text/plain": [
       "['DIS', 'NWT', 'BAS6', 'UPW', 'RCH', 'EVT', 'DRN', 'OC']"
      ]
     },
     "execution_count": 3,
     "metadata": {},
     "output_type": "execute_result"
    }
   ],
   "source": [
    "modelObject.get_package_list()"
   ]
  },
  {
   "cell_type": "code",
   "execution_count": 4,
   "metadata": {},
   "outputs": [],
   "source": [
    "disObject = modelObject.get_package('DIS') #Model Geometry\n",
    "basObject = modelObject.get_package('BAS6') #Starting heads and active zone\n",
    "#lpfObject = modelObject.get_package('LPF') #K distribution\n",
    "upwObject = modelObject.get_package('UPW') #K distribution\n",
    "#chdObject = modelObject.get_package('CHD')\n",
    "drnObject = modelObject.get_package('DRN')\n",
    "#welObject = modelObject.get_package('WEL')\n",
    "#rivObject = modelObject.get_package('RIV')\n",
    "#rchObject\n",
    "#evtObject\n",
    "#hdsObject = flopy.utils.formattedfile.FormattedHeadFile(modPath+modName+'.hds').get_data()\n",
    "hdsObject = flopy.utils.binaryfile.HeadFile(modPath+modName+'.hds').get_data()\n",
    "#ucnObject = flopy.utils.binaryfile.UcnFile(modPath+modName+'_Sulphates.ucn').get_data(totim=28695526.0)"
   ]
  },
  {
   "cell_type": "code",
   "execution_count": 5,
   "metadata": {},
   "outputs": [],
   "source": [
    "#create a empty dictionay to store the model features\n",
    "modDis  = {}\n",
    "modBas  = {}\n",
    "modLpf  = {}\n",
    "\n",
    "modDrn  = {}\n",
    "modWel  = {}\n",
    "#modRiv  = {}\n",
    "\n",
    "modHds  = {}\n",
    "#modUcn  = {}"
   ]
  },
  {
   "cell_type": "markdown",
   "metadata": {},
   "source": [
    "<br/>\n",
    "<br/>\n",
    "<br/>\n",
    "___\n",
    "\n",
    "# Working with the DIS (Discretization Data) data"
   ]
  },
  {
   "cell_type": "markdown",
   "metadata": {},
   "source": [
    "### General model features as modDis dict"
   ]
  },
  {
   "cell_type": "code",
   "execution_count": 6,
   "metadata": {},
   "outputs": [],
   "source": [
    "modDis[\"cellRows\"] = disObject.nrow\n",
    "modDis[\"cellCols\"] = disObject.ncol\n",
    "modDis[\"cellLays\"] = disObject.nlay\n",
    "modDis[\"vertexLays\"] = disObject.nlay + 1\n",
    "modDis[\"vertexRows\"] = modDis[\"cellRows\"] + 1\n",
    "modDis[\"vertexCols\"] = modDis[\"cellCols\"] + 1\n",
    "modDis[\"vertexPerLay\"] = modDis[\"vertexRows\"] * modDis[\"vertexCols\"]\n",
    "modDis[\"cellsPerLay\"] = modDis[\"cellRows\"] * modDis[\"cellCols\"]"
   ]
  },
  {
   "cell_type": "code",
   "execution_count": 7,
   "metadata": {},
   "outputs": [],
   "source": [
    "modDis['DELRArray1D'] = list(disObject.delr.array)\n",
    "modDis['DELCArray1D'] = list(disObject.delc.array)"
   ]
  },
  {
   "cell_type": "code",
   "execution_count": 8,
   "metadata": {},
   "outputs": [],
   "source": [
    "modDis['cellZVertexGrid']={}\n",
    "modDis['cellZVertexGrid']['lay0']=list(disObject.top.array.flatten())\n",
    "for lay in range(modDis[\"cellLays\"]):\n",
    "    modDis['cellZVertexGrid']['lay'+str(lay+1)]=list(disObject.botm.array.flatten()\n",
    "                                                     [lay*modDis[\"cellsPerLay\"]:(lay+1)*modDis[\"cellsPerLay\"]])"
   ]
  },
  {
   "cell_type": "code",
   "execution_count": 9,
   "metadata": {},
   "outputs": [],
   "source": [
    "########################\n",
    "### Geolocation model data\n",
    "modDis[\"vertexXmin\"]=0                            #disObject.xorigin.get_data()\n",
    "modDis[\"vertexYmin\"]=0                            #disObject.yorigin.get_data()\n",
    "modDis[\"vertexXmax\"]=sum(modDis['DELRArray1D'])\n",
    "modDis[\"vertexYmax\"]=sum(modDis['DELCArray1D'])"
   ]
  },
  {
   "cell_type": "code",
   "execution_count": 10,
   "metadata": {},
   "outputs": [],
   "source": [
    "########################\n",
    "### List of arrays of cells and vertex coord\n",
    "modDis['vertexEastingArray1D']  = np.array([modDis['vertexXmin']+np.sum(modDis['DELRArray1D'][:col]) \n",
    "                                            for col in range(modDis['vertexCols'])])\n",
    "modDis['vertexNorthingArray1D'] = np.array([modDis['vertexYmax']-np.sum(modDis['DELCArray1D'][:row]) \n",
    "                                            for row in range(modDis['vertexRows'])])\n",
    "\n",
    "modDis['cellEastingArray1D']    = np.array([modDis['vertexXmin']+np.sum(modDis['DELRArray1D'][:col])+\n",
    "                                            modDis['DELRArray1D'][col]/2 for col in range(modDis['cellCols'])])\n",
    "modDis['cellNorthingArray1D']   = np.array([modDis['vertexYmax']-np.sum(modDis['DELCArray1D'][:row])-\n",
    "                                            modDis['DELCArray1D'][row]/2 for row in range(modDis['cellRows'])])\n",
    "\n",
    "########################\n",
    "### Grid of XYZ Vertex Coordinates\n",
    "modDis['vertexXGrid'] = np.repeat(modDis['vertexEastingArray1D'].reshape(modDis['vertexCols'],1),\n",
    "                                  modDis['vertexRows'],axis=1).T\n",
    "modDis['vertexYGrid'] = np.repeat(modDis['vertexNorthingArray1D'],\n",
    "                                  modDis['vertexCols']).reshape(modDis['vertexRows'],modDis['vertexCols'])\n",
    "modDis['vertexZGrid'] = vtkProcess.interpolateCelltoVertex(modDis,'cellZVertexGrid')"
   ]
  },
  {
   "cell_type": "markdown",
   "metadata": {},
   "source": [
    "<br/>\n",
    "<br/>\n",
    "<br/>\n",
    "___\n",
    "\n",
    "# Get the Info for BAS - Active Zone"
   ]
  },
  {
   "cell_type": "code",
   "execution_count": 11,
   "metadata": {},
   "outputs": [],
   "source": [
    "modBas['active'] = list(basObject.ibound.array)"
   ]
  },
  {
   "cell_type": "markdown",
   "metadata": {},
   "source": [
    "<br/>\n",
    "<br/>\n",
    "<br/>\n",
    "___\n",
    "\n",
    "# Get the Info for LPF - Boundary Conditions and Cell Heads"
   ]
  },
  {
   "cell_type": "code",
   "execution_count": 12,
   "metadata": {},
   "outputs": [],
   "source": [
    "# Get the LFP Info\n",
    "modLpf['hkList'] = []\n",
    "modLpf['vkaList'] = []\n",
    "\n",
    "hkList=list(upwObject.hk.array.flatten())\n",
    "vkaList=list(upwObject.vka.array.flatten())\n",
    "activeList=list(np.concatenate(modBas['active']).flatten())\n",
    "\n",
    "for index, cell in enumerate(activeList):\n",
    "    if cell == 1:\n",
    "        modLpf['hkList'].append(hkList[index])\n",
    "        modLpf['vkaList'].append(vkaList[index])"
   ]
  },
  {
   "cell_type": "markdown",
   "metadata": {},
   "source": [
    "<br/>\n",
    "<br/>\n",
    "<br/>\n",
    "___\n",
    "\n",
    "# Get the Info for GHB, WEL y RIV"
   ]
  },
  {
   "cell_type": "code",
   "execution_count": 13,
   "metadata": {},
   "outputs": [],
   "source": [
    "# Get the GHD Info\n",
    "modDrn['drnCells'] = drnObject.stress_period_data.get_dataframe()[['k','i','j','elev0']].values.tolist()\n",
    "\n",
    "# Get the WEL Info\n",
    "#modWel['welCells'] = welObject.stress_period_data.get_dataframe()[['k','i','j','flux0']].values.tolist()\n",
    "\n",
    "# Get the RIV Info\n",
    "#modRiv['rivCells'] = rivObject.stress_period_data.get_dataframe()[['k','i','j','stage0']].values.tolist()"
   ]
  },
  {
   "cell_type": "markdown",
   "metadata": {},
   "source": [
    "<br/>\n",
    "<br/>\n",
    "<br/>\n",
    "___\n",
    "\n",
    "# Get the Info for Model Heads and WaterTable"
   ]
  },
  {
   "cell_type": "code",
   "execution_count": 14,
   "metadata": {},
   "outputs": [],
   "source": [
    "# Get head for cell and vertex   \n",
    "modHds['cellHeadsList'] = list(hdsObject.flatten())\n",
    "modHds['vertexHeadList'] = vtkProcess.simplifiedVertexHead(modDis,hdsObject)"
   ]
  },
  {
   "cell_type": "code",
   "execution_count": 15,
   "metadata": {},
   "outputs": [],
   "source": [
    "#Get the water table as function\n",
    "wtObject = vtkProcess.arrayWaterTableObject(modDis,hdsObject)"
   ]
  },
  {
   "cell_type": "markdown",
   "metadata": {},
   "source": [
    "<br/>\n",
    "<br/>\n",
    "<br/>\n",
    "___\n",
    "\n",
    "# Get the Info for Concentrations"
   ]
  },
  {
   "cell_type": "code",
   "execution_count": 16,
   "metadata": {},
   "outputs": [],
   "source": [
    "# Get head for cell and vertex   \n",
    "#modUcn['cellUcnList'] = list(ucnObject.flatten())\n",
    "#modUcn['vertexUcnList'] = vtkProcess.simplifiedVertexHead(modDis,ucnObject)"
   ]
  },
  {
   "cell_type": "markdown",
   "metadata": {},
   "source": [
    "<br/>\n",
    "<br/>\n",
    "<br/>\n",
    "___\n",
    "\n",
    "# VTK file of Model Geometry, Model Results and Boundary Conditions\n"
   ]
  },
  {
   "cell_type": "markdown",
   "metadata": {},
   "source": [
    "## Point Data"
   ]
  },
  {
   "cell_type": "code",
   "execution_count": 17,
   "metadata": {},
   "outputs": [],
   "source": [
    "### Vertex Heads and Concentrations\n",
    "listVertexHead = modHds['vertexHeadList']\n",
    "#listVertexUcn = modUcn['vertexUcnList']\n",
    "\n",
    "### Water Tables Vextex\n",
    "listWaterTableVertex = vtkProcess.listWaterTableVertexFunction(modDis,wtObject)"
   ]
  },
  {
   "cell_type": "markdown",
   "metadata": {},
   "source": [
    "## Point Definition"
   ]
  },
  {
   "cell_type": "code",
   "execution_count": 18,
   "metadata": {},
   "outputs": [],
   "source": [
    "### Definition of XYZ points for All Vertex \n",
    "vertexXYZPoints = vtkProcess.vertexXYZPointsFunction(modDis)\n",
    "\n",
    "### Definition of XYZ points for Water Table\n",
    "vertexWaterTableXYZPoints = vtkProcess.vertexWaterTableXYZPointsFunction(listWaterTableVertex,modDis)"
   ]
  },
  {
   "cell_type": "markdown",
   "metadata": {},
   "source": [
    "## Quad and Hexa Sequences"
   ]
  },
  {
   "cell_type": "code",
   "execution_count": 19,
   "metadata": {},
   "outputs": [],
   "source": [
    "### List of Layer Quad Sequences (Works only for a single layer)\n",
    "listLayerQuadSequence = vtkProcess.listLayerQuadSequenceFunction(modDis,modBas,wtObject)\n",
    "\n",
    "### List of Hexa Sequences for All Cells\n",
    "listHexaSequence = vtkProcess.listHexaSequenceFunction(modDis,modBas)\n",
    "\n",
    "### List of Hexa Sequences for GHB Cells\n",
    "listDrnCellsHexaSecuence = vtkProcess.bcCellsListFunction(modDrn,'drnCells',listHexaSequence,modDis,modBas)[1]\n",
    "\n",
    "### List of Hexa Sequences for wEL Cells\n",
    "#listWelCellsHexaSecuence = vtkProcess.bcCellsListFunction(modWel,'welCells',listHexaSequence,modDis,modBas)[1]\n",
    "\n",
    "### List of Hexa Sequences for RIV Cells\n",
    "#listRivCellsHexaSecuence = vtkProcess.bcCellsListFunction(modRiv,'rivCells',listHexaSequence,modDis,modBas)[1]"
   ]
  },
  {
   "cell_type": "markdown",
   "metadata": {
    "collapsed": true
   },
   "source": [
    "## Cell Data"
   ]
  },
  {
   "cell_type": "code",
   "execution_count": 20,
   "metadata": {},
   "outputs": [],
   "source": [
    "### Definition of cellK\n",
    "listCellHK = modLpf['hkList']\n",
    "listCellVKA = modLpf['vkaList']\n",
    "\n",
    "### Definition of cellHead\n",
    "listCellHead = [a for a in modHds['cellHeadsList'] if a>-2e+20 ]\n",
    "\n",
    "### Definition of cellConcentrations\n",
    "#listCellUcn = [a for a in modUcn['cellUcnList'] if a>-3.e+30 ]\n",
    "\n",
    "### Definition of CHD cells values '1' as List\n",
    "listDrnCellsIO = vtkProcess.bcCellsListFunction(modDrn,'drnCells',listHexaSequence,modDis,modBas)[0]\n",
    "\n",
    "### Definition of WEL cells values '1' as List\n",
    "#listWelCellsIO = vtkProcess.bcCellsListFunction(modWel,'welCells',listHexaSequence,modDis,modBas)[0]\n",
    "\n",
    "### Definition of RIV cells values '1' as List\n",
    "#listRivCellsIO = vtkProcess.bcCellsListFunction(modRiv,'rivCells',listHexaSequence,modDis,modBas)[0]\n",
    "\n",
    "### Water Tables on Cell\n",
    "listWaterTableCell = vtkProcess.listWaterTableCellFunction(modDis,wtObject)"
   ]
  },
  {
   "cell_type": "markdown",
   "metadata": {},
   "source": [
    "<br/>\n",
    "<br/>\n",
    "<br/>\n",
    "___\n",
    "\n",
    "# VTK Creation"
   ]
  },
  {
   "cell_type": "markdown",
   "metadata": {},
   "source": [
    "## Hydraulic conductivity distribution"
   ]
  },
  {
   "cell_type": "code",
   "execution_count": 21,
   "metadata": {},
   "outputs": [],
   "source": [
    "vtuFileName = '../vtuFiles/'+modName"
   ]
  },
  {
   "cell_type": "code",
   "execution_count": 22,
   "metadata": {},
   "outputs": [],
   "source": [
    "vtkText = open(vtuFileName+'_DIS_HK.vtu','w')\n",
    "\n",
    "vtkFunctions.printHeader(vtkText,len(vertexXYZPoints),len(listHexaSequence))\n",
    "\n",
    "vtkFunctions.printCellData(vtkText,'HK',listCellHK)\n",
    "\n",
    "vtkFunctions.printPointDefinition(vtkText,vertexXYZPoints)\n",
    "\n",
    "vtkFunctions.printCellHexaConnectivityOffsetType(vtkText,listHexaSequence)\n",
    "\n",
    "vtkFunctions.printFooter(vtkText)\n",
    "\n",
    "vtkText.close()"
   ]
  },
  {
   "cell_type": "code",
   "execution_count": 23,
   "metadata": {},
   "outputs": [],
   "source": [
    "vtkText = open(vtuFileName+'_DIS_VKA.vtu','w')\n",
    "\n",
    "vtkFunctions.printHeader(vtkText,len(vertexXYZPoints),len(listHexaSequence))\n",
    "\n",
    "vtkFunctions.printCellData(vtkText,'VKA',listCellVKA)\n",
    "\n",
    "vtkFunctions.printPointDefinition(vtkText,vertexXYZPoints)\n",
    "\n",
    "vtkFunctions.printCellHexaConnectivityOffsetType(vtkText,listHexaSequence)\n",
    "\n",
    "vtkFunctions.printFooter(vtkText)\n",
    "\n",
    "vtkText.close()"
   ]
  },
  {
   "cell_type": "markdown",
   "metadata": {
    "collapsed": true
   },
   "source": [
    "## Heads on Vertex and Cells VTK"
   ]
  },
  {
   "cell_type": "code",
   "execution_count": 24,
   "metadata": {},
   "outputs": [],
   "source": [
    "vtkText = open(vtuFileName+'_HD_Heads.vtu','w')\n",
    "\n",
    "vtkFunctions.printHeader(vtkText,len(vertexXYZPoints),len(listHexaSequence))\n",
    "\n",
    "vtkFunctions.printPointData(vtkText,'VertexHeads',listVertexHead)\n",
    "\n",
    "vtkFunctions.printCellData(vtkText,'CellHeads',listCellHead)\n",
    "\n",
    "vtkFunctions.printPointDefinition(vtkText,vertexXYZPoints)\n",
    "\n",
    "vtkFunctions.printCellHexaConnectivityOffsetType(vtkText,listHexaSequence)\n",
    "\n",
    "vtkFunctions.printFooter(vtkText)\n",
    "\n",
    "vtkText.close()"
   ]
  },
  {
   "cell_type": "code",
   "execution_count": 25,
   "metadata": {},
   "outputs": [],
   "source": [
    "#vtkText = open(vtuFileName+'_HD_Ucn.vtu','w')\n",
    "\n",
    "#vtkFunctions.printHeader(vtkText,len(vertexXYZPoints),len(listHexaSequence))\n",
    "\n",
    "#vtkFunctions.printPointData(vtkText,'VertexUcn',listVertexUcn)\n",
    "\n",
    "#vtkFunctions.printCellData(vtkText,'CellUcn',listCellUcn)\n",
    "\n",
    "#vtkFunctions.printPointDefinition(vtkText,vertexXYZPoints)\n",
    "\n",
    "#vtkFunctions.printCellHexaConnectivityOffsetType(vtkText,listHexaSequence)\n",
    "\n",
    "#vtkFunctions.printFooter(vtkText)\n",
    "\n",
    "#vtkText.close()"
   ]
  },
  {
   "cell_type": "markdown",
   "metadata": {
    "collapsed": true
   },
   "source": [
    "## Water Table VTK"
   ]
  },
  {
   "cell_type": "code",
   "execution_count": 26,
   "metadata": {},
   "outputs": [],
   "source": [
    "vtkText = open(vtuFileName+'_HD_WaterTable.vtu','w')\n",
    "\n",
    "vtkFunctions.printHeader(vtkText,len(vertexWaterTableXYZPoints),len(listWaterTableCell))\n",
    "\n",
    "vtkFunctions.printCellData(vtkText,'WaterTableElev',listWaterTableCell)\n",
    "\n",
    "vtkFunctions.printPointDefinition(vtkText,vertexWaterTableXYZPoints)\n",
    "\n",
    "vtkFunctions.printCellQuadConnectivityOffsetType(vtkText,listLayerQuadSequence)\n",
    "\n",
    "vtkFunctions.printFooter(vtkText)\n",
    "\n",
    "vtkText.close()"
   ]
  },
  {
   "cell_type": "markdown",
   "metadata": {},
   "source": [
    "## DRN Package VTK"
   ]
  },
  {
   "cell_type": "code",
   "execution_count": 27,
   "metadata": {},
   "outputs": [],
   "source": [
    "vtkText = open(vtuFileName+'_BC_DRNCells.vtu','w')\n",
    "\n",
    "vtkFunctions.printHeader(vtkText,len(vertexXYZPoints),len(listDrnCellsHexaSecuence))\n",
    "\n",
    "vtkFunctions.printCellData(vtkText,'DrnCells',listDrnCellsIO)\n",
    "\n",
    "vtkFunctions.printPointDefinition(vtkText,vertexXYZPoints)\n",
    "\n",
    "vtkFunctions.printCellHexaConnectivityOffsetType(vtkText,listDrnCellsHexaSecuence)\n",
    "\n",
    "vtkFunctions.printFooter(vtkText)\n",
    "\n",
    "vtkText.close()"
   ]
  },
  {
   "cell_type": "markdown",
   "metadata": {},
   "source": [
    "## WEL Package VTK"
   ]
  },
  {
   "cell_type": "code",
   "execution_count": 28,
   "metadata": {},
   "outputs": [],
   "source": [
    "#vtkText = open(vtuFileName+'_BC_WELCells.vtu','w')\n",
    "\n",
    "#vtkFunctions.printHeader(vtkText,len(vertexXYZPoints),len(listWelCellsHexaSecuence))\n",
    "\n",
    "#vtkFunctions.printCellData(vtkText,'WELCells',listWelCellsIO)\n",
    "\n",
    "#vtkFunctions.printPointDefinition(vtkText,vertexXYZPoints)\n",
    "\n",
    "#vtkFunctions.printCellHexaConnectivityOffsetType(vtkText,listWelCellsHexaSecuence)\n",
    "\n",
    "#vtkFunctions.printFooter(vtkText)\n",
    "\n",
    "#vtkText.close()"
   ]
  },
  {
   "cell_type": "markdown",
   "metadata": {},
   "source": [
    "## RIV Package VTK"
   ]
  },
  {
   "cell_type": "code",
   "execution_count": 29,
   "metadata": {},
   "outputs": [],
   "source": [
    "#vtkText = open(vtuFileName+'_BC_RIVCells.vtu','w')\n",
    "\n",
    "#vtkFunctions.printHeader(vtkText,len(vertexXYZPoints),len(listRivCellsHexaSecuence))\n",
    "\n",
    "#vtkFunctions.printCellData(vtkText,'RIVCells',listRivCellsIO)\n",
    "\n",
    "#vtkFunctions.printPointDefinition(vtkText,vertexXYZPoints)\n",
    "\n",
    "#vtkFunctions.printCellHexaConnectivityOffsetType(vtkText,listRivCellsHexaSecuence)\n",
    "\n",
    "#vtkFunctions.printFooter(vtkText)\n",
    "\n",
    "#vtkText.close()"
   ]
  }
 ],
 "metadata": {
  "kernelspec": {
   "display_name": "Python 3",
   "language": "python",
   "name": "python3"
  },
  "language_info": {
   "codemirror_mode": {
    "name": "ipython",
    "version": 3
   },
   "file_extension": ".py",
   "mimetype": "text/x-python",
   "name": "python",
   "nbconvert_exporter": "python",
   "pygments_lexer": "ipython3",
   "version": "3.7.0"
  }
 },
 "nbformat": 4,
 "nbformat_minor": 2
}
